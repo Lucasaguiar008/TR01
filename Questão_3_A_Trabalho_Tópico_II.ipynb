{
  "nbformat": 4,
  "nbformat_minor": 0,
  "metadata": {
    "colab": {
      "provenance": [],
      "cell_execution_strategy": "setup",
      "include_colab_link": true
    },
    "kernelspec": {
      "name": "python3",
      "display_name": "Python 3"
    },
    "language_info": {
      "name": "python"
    }
  },
  "cells": [
    {
      "cell_type": "markdown",
      "metadata": {
        "id": "view-in-github",
        "colab_type": "text"
      },
      "source": [
        "<a href=\"https://colab.research.google.com/github/LucasAguiar00/Trabalho_TopicosII/blob/main/Prim_Com_%C3%81rvore_Bin%C3%A1ria).ipynb\" target=\"_parent\"><img src=\"https://colab.research.google.com/assets/colab-badge.svg\" alt=\"Open In Colab\"/></a>"
      ]
    },
    {
      "cell_type": "markdown",
      "source": [
        "# Implementação do Algoritmo de Árvore Binária"
      ],
      "metadata": {
        "id": "6oh38Bw2B2sK"
      }
    },
    {
      "cell_type": "markdown",
      "source": [
        "Importação das Bibliotecas"
      ],
      "metadata": {
        "id": "vJJ8oA8aGbDC"
      }
    },
    {
      "cell_type": "code",
      "source": [
        "import numpy as np\n",
        "import matplotlib.pyplot as plt\n",
        "import networkx as nx\n",
        "import heapq\n",
        "\n",
        "import time\n",
        "import os\n",
        "import psutil\n",
        "import random\n",
        "import tracemalloc\n"
      ],
      "metadata": {
        "id": "oZ6-wPmcGen2"
      },
      "execution_count": null,
      "outputs": []
    },
    {
      "cell_type": "markdown",
      "source": [
        "Configuração Google Drive"
      ],
      "metadata": {
        "id": "aljyMpQDHnh1"
      }
    },
    {
      "cell_type": "code",
      "source": [
        "# Monte o Google Drive no Colab\n",
        "from google.colab import drive\n",
        "drive.mount('/content/drive')"
      ],
      "metadata": {
        "id": "HoxFliSMHwqb",
        "colab": {
          "base_uri": "https://localhost:8080/"
        },
        "outputId": "e987831a-2ba8-4c9c-cd08-9c00169ce4e3"
      },
      "execution_count": null,
      "outputs": [
        {
          "output_type": "stream",
          "name": "stdout",
          "text": [
            "Mounted at /content/drive\n"
          ]
        }
      ]
    },
    {
      "cell_type": "markdown",
      "source": [
        "Função de Cálculo do Uso de Memória e Tempo"
      ],
      "metadata": {
        "id": "jZvcbgO8HcFj"
      }
    },
    {
      "cell_type": "code",
      "source": [
        "\n",
        "# Função para medir o tempo e memória de uma função\n",
        "def medir_tempo_e_memoria(funcao, *args):\n",
        "    start_time = time.time()\n",
        "    tracemalloc.start()  # Inicia a medição com tracemalloc\n",
        "    resultado = funcao(*args)\n",
        "    end_time = time.time()\n",
        "\n",
        "    # Obtenha a estatística de uso de memória de tracemalloc\n",
        "    _, memoria = tracemalloc.get_traced_memory()\n",
        "    tracemalloc.stop()  # Pare a medição com tracemalloc\n",
        "\n",
        "    tempo_execucao = end_time - start_time\n",
        "    return tempo_execucao, memoria"
      ],
      "metadata": {
        "id": "xXOAPgUjLNTX"
      },
      "execution_count": null,
      "outputs": []
    },
    {
      "cell_type": "markdown",
      "source": [
        "Função de Leitura dos Grafos\n"
      ],
      "metadata": {
        "id": "dg-QY_XbCOw-"
      }
    },
    {
      "cell_type": "code",
      "execution_count": null,
      "metadata": {
        "id": "3cSSYJ9cBi7J"
      },
      "outputs": [],
      "source": [
        "def lerGrafo(nome_arquivo):\n",
        "    dados = []\n",
        "    with open(nome_arquivo, 'r') as arquivo:\n",
        "        for linha in arquivo:\n",
        "            if linha.startswith('E'):\n",
        "                valores = linha.split()[1:]\n",
        "                if len(valores) == 3:\n",
        "                    x, y, z = map(float, valores)\n",
        "                    dados.append([x, y, z])\n",
        "    return dados\n",
        "\n",
        "def gerarGrafo(nome_arquivo):\n",
        "  matriz_dados = lerGrafo(nome_arquivo)\n",
        "  matriz_dados = np.round(matriz_dados).astype(int)\n",
        "  matriz_dados = matriz_dados.tolist()\n",
        "  return matriz_dados"
      ]
    },
    {
      "cell_type": "markdown",
      "source": [
        "Função para Listar Aquivos em Pastas"
      ],
      "metadata": {
        "id": "yWmWVgRWzc-L"
      }
    },
    {
      "cell_type": "code",
      "source": [
        "def listar_arquivos_em_pasta(caminho_pasta):\n",
        "    try:\n",
        "        if os.path.isdir(caminho_pasta):\n",
        "            arquivos = os.listdir(caminho_pasta)\n",
        "            return arquivos\n",
        "        else:\n",
        "            return None\n",
        "    except Exception as e:\n",
        "        print(f\"Ocorreu um erro: {e}\")\n",
        "        return None\n"
      ],
      "metadata": {
        "id": "CJ0XqDEdziuL"
      },
      "execution_count": null,
      "outputs": []
    },
    {
      "cell_type": "markdown",
      "source": [
        "Implementação do Algoritmo de Prim com a Árvore Binária\n",
        "\n"
      ],
      "metadata": {
        "id": "ghvsuFSbGup5"
      }
    },
    {
      "cell_type": "code",
      "source": [
        "import heapq\n",
        "import networkx as nx\n",
        "import matplotlib.pyplot as plt\n",
        "\n",
        "class BinaryTree:\n",
        "    class Node:\n",
        "        def __init__(self, key):\n",
        "            self.key = key\n",
        "            self.left = None\n",
        "            self.right = None\n",
        "\n",
        "    def __init__(self):\n",
        "        self.root = None\n",
        "\n",
        "    def insert(self, node, key):\n",
        "        if not node:\n",
        "            return self.Node(key)\n",
        "        if key < node.key:\n",
        "            node.left = self.insert(node.left, key)\n",
        "        else:\n",
        "            node.right = self.insert(node.right, key)\n",
        "        return node\n",
        "\n",
        "    def min_node(self, node):\n",
        "        current = node\n",
        "        while current.left:\n",
        "            current = current.left\n",
        "        return current\n",
        "\n",
        "def prim_mst(matrix):\n",
        "    if not matrix:\n",
        "        return None\n",
        "\n",
        "    n = len(matrix)\n",
        "    min_heap = []\n",
        "    visited = [False] * n\n",
        "    mst = []\n",
        "    binary_tree = BinaryTree()\n",
        "\n",
        "    G = nx.Graph()\n",
        "\n",
        "    start_vertex = matrix[0][0]\n",
        "    visited[start_vertex] = True\n",
        "\n",
        "    for i in range(n - 1):\n",
        "        for edge in matrix:\n",
        "            u, v, weight = edge\n",
        "            if visited[u] != visited[v]:\n",
        "                heapq.heappush(min_heap, (weight, edge))\n",
        "\n",
        "        while min_heap:\n",
        "            weight, edge = heapq.heappop(min_heap)\n",
        "            u, v, _ = edge\n",
        "            if visited[u] != visited[v]:\n",
        "                visited[u] = True\n",
        "                visited[v] = True\n",
        "                mst.append(edge)\n",
        "                G.add_edge(u, v, weight=weight)\n",
        "                binary_tree.insert(binary_tree.root, u)\n",
        "                binary_tree.insert(binary_tree.root, v)\n",
        "                break\n",
        "\n",
        "    return G, mst\n"
      ],
      "metadata": {
        "id": "G-YTflXIG_76"
      },
      "execution_count": null,
      "outputs": []
    },
    {
      "cell_type": "markdown",
      "source": [
        "Main\n"
      ],
      "metadata": {
        "id": "9XoP9BOtHIzh"
      }
    },
    {
      "cell_type": "code",
      "source": [
        "\n",
        "pasta = '/content/drive/My Drive/AGM/ALUE/ALUE'\n",
        "# pasta = '/content/drive/My Drive/AGM/ALUT/ALUT'\n",
        "# pasta = '/content/drive/My Drive/AGM/DMXA/DMXA'\n",
        "\n",
        "todasInstâncias = listar_arquivos_em_pasta(pasta)\n",
        "\n",
        "for instância in todasInstâncias:\n",
        "    caminho = f'{pasta}/{instância}'\n",
        "    matriz_dados = gerarGrafo(caminho)\n",
        "\n",
        "    res_tempo = []\n",
        "    res_memória = []\n",
        "    for i in range(10):\n",
        "        tempo_execucao, uso_memoria = medir_tempo_e_memoria(prim_mst, matriz_dados)\n",
        "\n",
        "        res_tempo.append(tempo_execucao)\n",
        "        res_memória.append(uso_memoria)\n",
        "\n",
        "    print(f'Instância {instância}')\n",
        "    print(f'Tempo médio (s): {np.mean(res_tempo)}')\n",
        "    print(f'Tempo máximo (s): {np.max(res_tempo)}')\n",
        "    print(f'Tempo mínimo (s): {np.min(res_tempo)}')\n",
        "    print(f'Memória média (bytes): {np.mean(res_memória)}')\n",
        "    print(f'Memória máxima (bytes): {np.max(res_memória)}')\n",
        "    print(f'Memória mínima (bytes): {np.min(res_memória)}')\n",
        "    print('\\n')"
      ],
      "metadata": {
        "id": "ZWhmAM4GHKty",
        "colab": {
          "base_uri": "https://localhost:8080/"
        },
        "outputId": "1125cd7e-918e-4a53-c21e-03dd5f0c1df6"
      },
      "execution_count": null,
      "outputs": [
        {
          "output_type": "stream",
          "name": "stdout",
          "text": [
            "Instância alue6179.stp\n",
            "Tempo médio (s): 3.2922255039215087\n",
            "Tempo máximo (s): 4.327393531799316\n",
            "Tempo mínimo (s): 2.7461841106414795\n",
            "Memória média (bytes): 2636678.4\n",
            "Memória máxima (bytes): 5980656\n",
            "Memória mínima (bytes): 2260082\n",
            "\n",
            "\n",
            "Instância alue7229.stp\n",
            "Tempo médio (s): 0.4462202310562134\n",
            "Tempo máximo (s): 0.4847993850708008\n",
            "Tempo mínimo (s): 0.23912382125854492\n",
            "Memória média (bytes): 591308.6\n",
            "Memória máxima (bytes): 607346\n",
            "Memória mínima (bytes): 581166\n",
            "\n",
            "\n",
            "Instância alue3146.stp\n",
            "Tempo médio (s): 4.615347170829773\n",
            "Tempo máximo (s): 6.071218729019165\n",
            "Tempo mínimo (s): 3.932896375656128\n",
            "Memória média (bytes): 2649472.7\n",
            "Memória máxima (bytes): 2674589\n",
            "Memória mínima (bytes): 2632637\n",
            "\n",
            "\n",
            "Instância alue2087.stp\n",
            "Tempo médio (s): 0.40083320140838624\n",
            "Tempo máximo (s): 0.4222066402435303\n",
            "Tempo mínimo (s): 0.39197278022766113\n",
            "Memória média (bytes): 760279.4\n",
            "Memória máxima (bytes): 795832\n",
            "Memória mínima (bytes): 747998\n",
            "\n",
            "\n",
            "Instância alue7066.stp\n",
            "Tempo médio (s): 14.448820567131042\n",
            "Tempo máximo (s): 16.37816882133484\n",
            "Tempo mínimo (s): 14.08259916305542\n",
            "Memória média (bytes): 4680037.2\n",
            "Memória máxima (bytes): 4709469\n",
            "Memória mínima (bytes): 4661145\n",
            "\n",
            "\n",
            "Instância alue5067.stp\n",
            "Tempo médio (s): 3.977298140525818\n",
            "Tempo máximo (s): 5.466603994369507\n",
            "Tempo mínimo (s): 3.315218687057495\n",
            "Memória média (bytes): 2405012.3\n",
            "Memória máxima (bytes): 2433858\n",
            "Memória mínima (bytes): 2388481\n",
            "\n",
            "\n",
            "Instância alue6457.stp\n",
            "Tempo médio (s): 4.975462746620178\n",
            "Tempo máximo (s): 8.206384897232056\n",
            "Tempo mínimo (s): 4.086436986923218\n",
            "Memória média (bytes): 2636310.5\n",
            "Memória máxima (bytes): 2673069\n",
            "Memória mínima (bytes): 2621581\n",
            "\n",
            "\n",
            "Instância alue2105.stp\n",
            "Tempo médio (s): 0.5580087184906006\n",
            "Tempo máximo (s): 0.8250432014465332\n",
            "Tempo mínimo (s): 0.3625962734222412\n",
            "Memória média (bytes): 775521.5\n",
            "Memória máxima (bytes): 829188\n",
            "Memória mínima (bytes): 752239\n",
            "\n",
            "\n",
            "Instância alue5345.stp\n",
            "Tempo médio (s): 8.893638038635254\n",
            "Tempo máximo (s): 9.834682703018188\n",
            "Tempo mínimo (s): 7.5754029750823975\n",
            "Memória média (bytes): 3547830.9\n",
            "Memória máxima (bytes): 3582947\n",
            "Memória mínima (bytes): 3527745\n",
            "\n",
            "\n",
            "Instância alue6735.stp\n",
            "Tempo médio (s): 6.028936648368836\n",
            "Tempo máximo (s): 8.222967624664307\n",
            "Tempo mínimo (s): 4.9329588413238525\n",
            "Memória média (bytes): 2847258.2\n",
            "Memória máxima (bytes): 2857548\n",
            "Memória mínima (bytes): 2841141\n",
            "\n",
            "\n",
            "Instância alue7065.stp\n",
            "Tempo médio (s): 368.9429514884949\n",
            "Tempo máximo (s): 372.4142279624939\n",
            "Tempo mínimo (s): 366.57587909698486\n",
            "Memória média (bytes): 25253941.1\n",
            "Memória máxima (bytes): 25773154\n",
            "Memória mínima (bytes): 25125672\n",
            "\n",
            "\n",
            "Instância alue5623.stp\n",
            "Tempo médio (s): 6.683679366111756\n",
            "Tempo máximo (s): 9.843733310699463\n",
            "Tempo mínimo (s): 5.621649265289307\n",
            "Memória média (bytes): 3139327.6\n",
            "Memória máxima (bytes): 3165768\n",
            "Memória mínima (bytes): 3128456\n",
            "\n",
            "\n",
            "Instância alue5901.stp\n",
            "Tempo médio (s): 44.39998512268066\n",
            "Tempo máximo (s): 46.06056261062622\n",
            "Tempo mínimo (s): 43.691495418548584\n",
            "Memória média (bytes): 8574483.7\n",
            "Memória máxima (bytes): 8587316\n",
            "Memória mínima (bytes): 8563841\n",
            "\n",
            "\n",
            "Instância alue7080.stp\n",
            "Tempo médio (s): 394.47672777175904\n",
            "Tempo máximo (s): 400.81423020362854\n",
            "Tempo mínimo (s): 386.4812593460083\n",
            "Memória média (bytes): 25658508.1\n",
            "Memória máxima (bytes): 26829859\n",
            "Memória mínima (bytes): 25519775\n",
            "\n",
            "\n",
            "Instância alue6951.stp\n",
            "Tempo médio (s): 2.2599682092666624\n",
            "Tempo máximo (s): 3.9725799560546875\n",
            "Tempo mínimo (s): 2.009449005126953\n",
            "Memória média (bytes): 1940667.4\n",
            "Memória máxima (bytes): 1949104\n",
            "Memória mínima (bytes): 1925254\n",
            "\n",
            "\n"
          ]
        }
      ]
    }
  ]
}
