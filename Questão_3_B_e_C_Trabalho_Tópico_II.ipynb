{
  "cells": [
    {
      "cell_type": "markdown",
      "metadata": {
        "id": "view-in-github",
        "colab_type": "text"
      },
      "source": [
        "<a href=\"https://colab.research.google.com/github/LucasAguiar00/Trabalho_TopicosII/blob/main/Problema_da_%C3%81rvore_Geradora_M%C3%ADnima.ipynb\" target=\"_parent\"><img src=\"https://colab.research.google.com/assets/colab-badge.svg\" alt=\"Open In Colab\"/></a>"
      ]
    },
    {
      "cell_type": "markdown",
      "metadata": {
        "id": "N4k38zy_O5WA"
      },
      "source": [
        "# Problema da Árvore Geradora Mínima"
      ]
    },
    {
      "cell_type": "markdown",
      "metadata": {
        "id": "Hp25FD14PAO2"
      },
      "source": [
        "## Bibliotecas utilizadas"
      ]
    },
    {
      "cell_type": "code",
      "execution_count": null,
      "metadata": {
        "id": "SyCCE6R_E9T0"
      },
      "outputs": [],
      "source": [
        "import numpy as np\n",
        "import matplotlib.pyplot as plt\n",
        "import networkx as nx\n",
        "import heapq\n",
        "\n",
        "import time\n",
        "import os\n",
        "import psutil\n",
        "import random\n",
        "\n",
        "import tracemalloc"
      ]
    },
    {
      "cell_type": "code",
      "execution_count": null,
      "metadata": {
        "colab": {
          "base_uri": "https://localhost:8080/"
        },
        "id": "8H37lTSy_6kJ",
        "outputId": "945d9693-9e2d-49f6-81c5-132ef3f4db8c"
      },
      "outputs": [
        {
          "output_type": "stream",
          "name": "stdout",
          "text": [
            "Requirement already satisfied: psutil in /usr/local/lib/python3.10/dist-packages (5.9.5)\n"
          ]
        }
      ],
      "source": [
        "pip install psutil"
      ]
    },
    {
      "cell_type": "code",
      "execution_count": null,
      "metadata": {
        "id": "S8Gbk-MCyOuR"
      },
      "outputs": [],
      "source": [
        "# Função para calcular o uso da memória\n",
        "def get_memory_usage():\n",
        "    process = psutil.Process(os.getpid())\n",
        "    return process.memory_info().rss  # Em bytes\n",
        "    # return process.memory_info().rss / 1024 / 1024  # Em megabytes"
      ]
    },
    {
      "cell_type": "code",
      "execution_count": null,
      "metadata": {
        "colab": {
          "base_uri": "https://localhost:8080/"
        },
        "id": "eUOKHfmzyQWr",
        "outputId": "1e65c689-f2c0-42a6-b1f0-786e9d581962"
      },
      "outputs": [
        {
          "output_type": "stream",
          "name": "stdout",
          "text": [
            "Drive already mounted at /content/drive; to attempt to forcibly remount, call drive.mount(\"/content/drive\", force_remount=True).\n"
          ]
        }
      ],
      "source": [
        "# Monta o Google Drive no Colab para ler a instâncias no drive, os arquivos ficaram dispostos com base nas pastas abaixo\n",
        "  # pasta = '/content/drive/My Drive/AGM/ALUE'\n",
        "  # pasta = '/content/drive/My Drive/AGM/ALUT'\n",
        "  # pasta = '/content/drive/My Drive/AGM/DMXA'\n",
        "from google.colab import drive\n",
        "drive.mount('/content/drive')"
      ]
    },
    {
      "cell_type": "markdown",
      "metadata": {
        "id": "uirBg5mSPDpU"
      },
      "source": [
        "## Funções para a leitura do GRAFO"
      ]
    },
    {
      "cell_type": "code",
      "execution_count": null,
      "metadata": {
        "id": "vkM0bdFoG_yQ"
      },
      "outputs": [],
      "source": [
        "# Lê o grafo com base no caminho do arquivo e retorna o array\n",
        "def lerGrafo(nome_arquivo):\n",
        "    dados = []\n",
        "    with open(nome_arquivo, 'r') as arquivo:\n",
        "        for linha in arquivo:\n",
        "            if linha.startswith('E'):\n",
        "                valores = linha.split()[1:]  # Ignorar o 'E' no início\n",
        "                if len(valores) == 3:\n",
        "                    x, y, z = map(float, valores)\n",
        "                    dados.append([x, y, z])\n",
        "    return dados\n",
        "\n",
        "def gerarGrafo(nome_arquivo):\n",
        "  matriz_dados = lerGrafo(nome_arquivo)\n",
        "  matriz_dados = np.round(matriz_dados).astype(int) # Mudando os dados de float para inteiro\n",
        "  matriz_dados = matriz_dados.tolist() # Mudando o formato de np.array para list\n",
        "  return matriz_dados\n",
        "\n",
        "# # Exemplo de uso\n",
        "# pasta = '/content/drive/My Drive/AGM/DMXA'\n",
        "# instância = 'dmxa0368.stp'\n",
        "# caminho = f'{pasta}/{instância}'\n",
        "# matriz_dados = gerarGrafo(caminho)\n",
        "# print(matriz_dados)"
      ]
    },
    {
      "cell_type": "code",
      "execution_count": null,
      "metadata": {
        "id": "7J6DkF5o4bUr"
      },
      "outputs": [],
      "source": [
        "# Lista as instâncias que estão dentro de cada pasta dos grafos disponibilizados\n",
        "def listar_arquivos_em_pasta(caminho_pasta):\n",
        "    try:\n",
        "        # Verifica se o caminho é uma pasta\n",
        "        if os.path.isdir(caminho_pasta):\n",
        "            # Lista os arquivos na pasta\n",
        "            arquivos = os.listdir(caminho_pasta)\n",
        "            return arquivos\n",
        "        else:\n",
        "            return None\n",
        "    except Exception as e:\n",
        "        print(f\"Ocorreu um erro: {e}\")\n",
        "        return None\n",
        "\n",
        "# # Exemplo de uso\n",
        "# pasta = '/content/drive/My Drive/AGM/DMXA'\n",
        "# arquivos_na_pasta = listar_arquivos_em_pasta(pasta)\n",
        "# print(arquivos_na_pasta)"
      ]
    },
    {
      "cell_type": "markdown",
      "metadata": {
        "id": "G26vEbwoPQgi"
      },
      "source": [
        "## B) Implementação da AVL"
      ]
    },
    {
      "cell_type": "code",
      "execution_count": null,
      "metadata": {
        "id": "W07AxNmwOjNb"
      },
      "outputs": [],
      "source": [
        "# AVL\n",
        "class AVLTree:\n",
        "    class Node:\n",
        "        def __init__(self, key):\n",
        "            self.key = key\n",
        "            self.left = None\n",
        "            self.right = None\n",
        "            self.height = 1\n",
        "\n",
        "    def __init__(self):\n",
        "        self.root = None\n",
        "\n",
        "    def height(self, node):\n",
        "        if not node:\n",
        "            return 0\n",
        "        return node.height\n",
        "\n",
        "    def update_height(self, node):\n",
        "        if not node:\n",
        "            return 0\n",
        "        node.height = 1 + max(self.height(node.left), self.height(node.right))\n",
        "\n",
        "    def balance_factor(self, node):\n",
        "        if not node:\n",
        "            return 0\n",
        "        return self.height(node.left) - self.height(node.right)\n",
        "\n",
        "    def rotate_left(self, y):\n",
        "        x = y.right\n",
        "        T2 = x.left\n",
        "\n",
        "        x.left = y\n",
        "        y.right = T2\n",
        "\n",
        "        y.height = 1 + max(self.height(y.left), self.height(y.right))\n",
        "        x.height = 1 + max(self.height(x.left), self.height(x.right))\n",
        "\n",
        "        return x\n",
        "\n",
        "    def rotate_right(self, x):\n",
        "        y = x.left\n",
        "        T2 = y.right\n",
        "\n",
        "        y.right = x\n",
        "        x.left = T2\n",
        "\n",
        "        x.height = 1 + max(self.height(x.left), self.height(x.right))\n",
        "        y.height = 1 + max(self.height(y.left), self.height(y.right))\n",
        "\n",
        "        return y\n",
        "\n",
        "    def insert(self, node, key):\n",
        "        if not node:\n",
        "            return self.Node(key)\n",
        "\n",
        "        if key < node.key:\n",
        "            node.left = self.insert(node.left, key)\n",
        "        else:\n",
        "            node.right = self.insert(node.right, key)\n",
        "\n",
        "        self.update_height(node)\n",
        "\n",
        "        balance = self.balance_factor(node)\n",
        "\n",
        "        # Caso de desequilíbrio à esquerda\n",
        "        if balance > 1:\n",
        "            if key < node.left.key:\n",
        "                return self.rotate_right(node)\n",
        "            else:\n",
        "                node.left = self.rotate_left(node.left)\n",
        "                return self.rotate_right(node)\n",
        "\n",
        "        # Caso de desequilíbrio à direita\n",
        "        if balance < -1:\n",
        "            if key > node.right.key:\n",
        "                return self.rotate_left(node)\n",
        "            else:\n",
        "                node.right = self.rotate_right(node.right)\n",
        "                return self.rotate_left(node)\n",
        "\n",
        "        return node"
      ]
    },
    {
      "cell_type": "code",
      "execution_count": null,
      "metadata": {
        "id": "xFwiEz5vIpsr"
      },
      "outputs": [],
      "source": [
        "## Função PRIM com AVL\n",
        "def prim_mst(matrix):\n",
        "    if not matrix:\n",
        "        return None\n",
        "\n",
        "    n = len(matrix)\n",
        "    min_heap = []  # Heap mínimo para escolher as arestas de menor peso\n",
        "    visited = [False] * n\n",
        "    mst = []  # Lista para armazenar as arestas da árvore geradora mínima\n",
        "\n",
        "    # Crie um grafo vazio\n",
        "    G = nx.Graph()\n",
        "\n",
        "    # Inicie com o primeiro vértice\n",
        "    start_vertex = matrix[0][0]\n",
        "    visited[start_vertex] = True\n",
        "\n",
        "    for i in range(n - 1):\n",
        "        for edge in matrix:\n",
        "            u, v, weight = edge\n",
        "            if visited[u] != visited[v]:\n",
        "                heapq.heappush(min_heap, (weight, edge))\n",
        "\n",
        "        while min_heap:\n",
        "            weight, edge = heapq.heappop(min_heap)\n",
        "            u, v, _ = edge\n",
        "            if visited[u] != visited[v]:\n",
        "                visited[u] = True\n",
        "                visited[v] = True\n",
        "                mst.append(edge)\n",
        "                G.add_edge(u, v, weight=weight)\n",
        "                break\n",
        "\n",
        "    return G, mst\n",
        "\n",
        "# # Exemplo de uso\n",
        "# matrix = [\n",
        "#     [0, 1, 2],\n",
        "#     [0, 2, 4],\n",
        "#     [1, 2, 3],\n",
        "#     [1, 3, 1],\n",
        "#     [2, 3, 5],\n",
        "#     [0, 4, 6],\n",
        "#     [2, 4, 2],\n",
        "#     [3, 4, 8]\n",
        "# ]\n",
        "\n",
        "# G, mst = prim_mst(matrix)\n",
        "\n",
        "# # Desenhe o grafo resultante\n",
        "# pos = nx.spring_layout(G)\n",
        "# labels = nx.get_edge_attributes(G, 'weight')\n",
        "# nx.draw(G, pos, with_labels=True, node_size=500, node_color='skyblue', font_size=10)\n",
        "# nx.draw_networkx_edge_labels(G, pos, edge_labels=labels)\n",
        "# plt.title(\"Árvore Geradora Mínima (Prim)\")\n",
        "# plt.show()"
      ]
    },
    {
      "cell_type": "markdown",
      "metadata": {
        "id": "pFwkiCut4-e8"
      },
      "source": [
        "## Executando a AVL"
      ]
    },
    {
      "cell_type": "code",
      "execution_count": null,
      "metadata": {
        "colab": {
          "background_save": true,
          "base_uri": "https://localhost:8080/"
        },
        "id": "Vy9_66-t49ab",
        "outputId": "460842ee-6529-4bd2-df22-d8b5fd4a793c"
      },
      "outputs": [
        {
          "name": "stdout",
          "output_type": "stream",
          "text": [
            "Instância alue6179.stp\n",
            "Tempo médio (s): 4.041339588165283\n",
            "Tempo máximo (s): 9.2859628200531\n",
            "Tempo minimo (s): 2.6262638568878174\n",
            "Memória médio (bits): 371248332.8\n",
            "Memória máximo (bits): 1740603392\n",
            "Memória minimo (bits): 0\n",
            "\n",
            "\n",
            "Instância alue7229.stp\n",
            "Tempo médio (s): 0.39571051597595214\n",
            "Tempo máximo (s): 0.4711153507232666\n",
            "Tempo minimo (s): 0.21811866760253906\n",
            "Memória médio (bits): 1726873.6\n",
            "Memória máximo (bits): 10321920\n",
            "Memória minimo (bits): 0\n",
            "\n",
            "\n",
            "Instância alue3146.stp\n",
            "Tempo médio (s): 4.681695365905762\n",
            "Tempo máximo (s): 5.941761016845703\n",
            "Tempo minimo (s): 3.721456527709961\n",
            "Memória médio (bits): 80140697.6\n",
            "Memória máximo (bits): 572915712\n",
            "Memória minimo (bits): 65536\n",
            "\n",
            "\n",
            "Instância alue7066.stp\n",
            "Tempo médio (s): 14.26295177936554\n",
            "Tempo máximo (s): 14.798033237457275\n",
            "Tempo minimo (s): 14.015328407287598\n",
            "Memória médio (bits): 84384153.6\n",
            "Memória máximo (bits): 341999616\n",
            "Memória minimo (bits): 5373952\n",
            "\n",
            "\n",
            "Instância alue2087.stp\n",
            "Tempo médio (s): 0.3934450387954712\n",
            "Tempo máximo (s): 0.46096229553222656\n",
            "Tempo minimo (s): 0.3754434585571289\n",
            "Memória médio (bits): 111411.2\n",
            "Memória máximo (bits): 589824\n",
            "Memória minimo (bits): 0\n",
            "\n",
            "\n",
            "Instância alue5067.stp\n",
            "Tempo médio (s): 3.8112809658050537\n",
            "Tempo máximo (s): 5.091244459152222\n",
            "Tempo minimo (s): 3.1518144607543945\n",
            "Memória médio (bits): 2277376.0\n",
            "Memória máximo (bits): 8060928\n",
            "Memória minimo (bits): 0\n",
            "\n",
            "\n",
            "Instância alue6457.stp\n",
            "Tempo médio (s): 4.602817273139953\n",
            "Tempo máximo (s): 5.561077356338501\n",
            "Tempo minimo (s): 3.9201743602752686\n",
            "Memória médio (bits): 8316518.4\n",
            "Memória máximo (bits): 48300032\n",
            "Memória minimo (bits): 0\n",
            "\n",
            "\n",
            "Instância alue2105.stp\n",
            "Tempo médio (s): 0.36622488498687744\n",
            "Tempo máximo (s): 0.41895437240600586\n",
            "Tempo minimo (s): 0.3460407257080078\n",
            "Memória médio (bits): 62259.2\n",
            "Memória máximo (bits): 622592\n",
            "Memória minimo (bits): 0\n",
            "\n",
            "\n",
            "Instância alue5345.stp\n",
            "Tempo médio (s): 9.028919458389282\n",
            "Tempo máximo (s): 11.945417165756226\n",
            "Tempo minimo (s): 7.448659896850586\n",
            "Memória médio (bits): 7657881.6\n",
            "Memória máximo (bits): 45056000\n",
            "Memória minimo (bits): 0\n",
            "\n",
            "\n",
            "Instância alue6735.stp\n",
            "Tempo médio (s): 5.803207302093506\n",
            "Tempo máximo (s): 7.080807447433472\n",
            "Tempo minimo (s): 4.887568712234497\n",
            "Memória médio (bits): 13598720.0\n",
            "Memória máximo (bits): 59899904\n",
            "Memória minimo (bits): 0\n",
            "\n",
            "\n",
            "Instância alue7065.stp\n",
            "Tempo médio (s): 403.0364114284515\n",
            "Tempo máximo (s): 418.4064996242523\n",
            "Tempo minimo (s): 390.3189744949341\n",
            "Memória médio (bits): 266325196.8\n",
            "Memória máximo (bits): 2078277632\n",
            "Memória minimo (bits): 8093696\n",
            "\n",
            "\n",
            "Instância alue5623.stp\n",
            "Tempo médio (s): 6.241490721702576\n",
            "Tempo máximo (s): 7.247236967086792\n",
            "Tempo minimo (s): 5.361635208129883\n",
            "Memória médio (bits): 21007564.8\n",
            "Memória máximo (bits): 72646656\n",
            "Memória minimo (bits): 294912\n",
            "\n",
            "\n",
            "Instância alue5901.stp\n",
            "Tempo médio (s): 48.36379091739654\n",
            "Tempo máximo (s): 50.35493493080139\n",
            "Tempo minimo (s): 46.23018550872803\n",
            "Memória médio (bits): 35179724.8\n",
            "Memória máximo (bits): 86966272\n",
            "Memória minimo (bits): 3702784\n",
            "\n",
            "\n",
            "Instância alue7080.stp\n",
            "Tempo médio (s): 465.1906369686127\n",
            "Tempo máximo (s): 471.23902201652527\n",
            "Tempo minimo (s): 458.66647458076477\n",
            "Memória médio (bits): 33203814.4\n",
            "Memória máximo (bits): 76578816\n",
            "Memória minimo (bits): 1441792\n",
            "\n",
            "\n",
            "Instância alue6951.stp\n",
            "Tempo médio (s): 2.247272253036499\n",
            "Tempo máximo (s): 3.0171685218811035\n",
            "Tempo minimo (s): 1.934556007385254\n",
            "Memória médio (bits): 4502323.2\n",
            "Memória máximo (bits): 33718272\n",
            "Memória minimo (bits): 0\n",
            "\n",
            "\n"
          ]
        }
      ],
      "source": [
        "## OBSERVAÇÃO:: NECESSÁRIO MUDAR A PASTA MANUALMENTE PARA PROCESSAR OS MODELOS DE INSTÂNCIA ALUE | ALUT E DMXA\n",
        "\n",
        "# pasta = '/content/drive/My Drive/AGM/ALUE'\n",
        "pasta = '/content/drive/My Drive/AGM/ALUT'\n",
        "# pasta = '/content/drive/My Drive/AGM/DMXA'\n",
        "\n",
        "# Lista todas as instâncias que estão na pasta\n",
        "todasInstâncias = listar_arquivos_em_pasta(pasta)\n",
        "\n",
        "# Executa cada instância 10x exibindo o tempo e memória usadas\n",
        "for instância in todasInstâncias:\n",
        "  caminho = f'{pasta}/{instância}'\n",
        "  matriz_dados = gerarGrafo(caminho)\n",
        "\n",
        "  res_tempo = [];\n",
        "  res_memória = [];\n",
        "  for i in range(10):\n",
        "    # Registra a memória usada inicialmente e o tempo inicial\n",
        "    inicio_memoria = psutil.virtual_memory()\n",
        "\n",
        "    inicio = time.time()\n",
        "\n",
        "    # Chamando a função\n",
        "    G, mst = prim_mst(matriz_dados)\n",
        "\n",
        "    # Registra a memória usada após executar a função e o tempo final\n",
        "    fim = time.time()\n",
        "    fim_memoria = psutil.virtual_memory()\n",
        "\n",
        "    # Realiza o cálculo do tempo decorrido e do uso da memória\n",
        "    tempo_decorrido = fim - inicio\n",
        "    uso_memoria = abs(fim_memoria.used - inicio_memoria.used)*8 # x 8 para ficar em bits\n",
        "\n",
        "    # Adicionando o resultado nos vetors\n",
        "    res_tempo.append(tempo_decorrido)\n",
        "    res_memória.append(uso_memoria)\n",
        "\n",
        "  print(f'Instância {instância}')\n",
        "  print(f'Tempo médio (s): {np.mean(res_tempo)}')\n",
        "  print(f'Tempo máximo (s): {np.max(res_tempo)}')\n",
        "  print(f'Tempo minimo (s): {np.min(res_tempo)}')\n",
        "  print(f'Memória médio (bits): {np.mean(res_memória)}')\n",
        "  print(f'Memória máximo (bits): {np.max(res_memória)}')\n",
        "  print(f'Memória minimo (bits): {np.min(res_memória)}')\n",
        "  print('\\n')"
      ]
    },
    {
      "cell_type": "markdown",
      "metadata": {
        "id": "_I9zRZmPq72H"
      },
      "source": [
        "## C) Implementação Heap Fibonacci"
      ]
    },
    {
      "cell_type": "code",
      "execution_count": null,
      "metadata": {
        "id": "IHWEQGG2zbou"
      },
      "outputs": [],
      "source": [
        "pip install heapdict"
      ]
    },
    {
      "cell_type": "code",
      "execution_count": null,
      "metadata": {
        "id": "KjGGIqsx1Bir"
      },
      "outputs": [],
      "source": [
        "pip install networkx matplotlib"
      ]
    },
    {
      "cell_type": "code",
      "execution_count": null,
      "metadata": {
        "id": "gGZn6t2Fz3i9"
      },
      "outputs": [],
      "source": [
        "import heapdict\n",
        "import networkx as nx\n",
        "import matplotlib.pyplot as plt\n",
        "\n",
        "def prim_fibonacci_heap(matrix):\n",
        "    # Crie um dicionário para representar o grafo com base na matriz de entrada\n",
        "    graph = {}\n",
        "\n",
        "    # Preencha o dicionário com vértices e arestas\n",
        "    for row in matrix:\n",
        "        u, v, weight = row\n",
        "        if u not in graph:\n",
        "            graph[u] = []\n",
        "        if v not in graph:\n",
        "            graph[v] = []\n",
        "        graph[u].append((v, weight))\n",
        "        graph[v].append((u, weight))\n",
        "\n",
        "    # Inicialize a estrutura de dados Heap de Fibonacci e o conjunto de vértices visitados\n",
        "    fib_heap = heapdict.heapdict()\n",
        "    visited = set()\n",
        "\n",
        "    # Escolha um vértice arbitrário para iniciar\n",
        "    start_vertex = list(graph.keys())[0]\n",
        "\n",
        "    # Inicie a AGM com o vértice inicial\n",
        "    agm = []\n",
        "    visited.add(start_vertex)\n",
        "\n",
        "    # Adicione todas as arestas conectadas ao vértice inicial à Heap de Fibonacci\n",
        "    for neighbor, weight in graph[start_vertex]:\n",
        "        fib_heap[neighbor] = (start_vertex, neighbor, weight)\n",
        "\n",
        "    # Continue até que todos os vértices sejam visitados\n",
        "    while len(visited) < len(graph):\n",
        "        # Encontre a aresta com o menor peso para a AGM\n",
        "        _, current_edge = fib_heap.popitem()\n",
        "\n",
        "        # Desempacote a aresta\n",
        "        u, v, min_weight = current_edge\n",
        "\n",
        "        # Adicione o vértice e a aresta à AGM\n",
        "        agm.append((u, v, min_weight))\n",
        "        visited.add(v)\n",
        "\n",
        "        # Atualize a Heap de Fibonacci com as arestas dos vértices recém-adicionados\n",
        "        for neighbor, weight in graph[v]:\n",
        "            if neighbor not in visited:\n",
        "                # Se o vértice ainda não foi visitado, verifique se a aresta é menor que a atual na Heap de Fibonacci\n",
        "                if neighbor not in fib_heap or weight < fib_heap[neighbor][2]:\n",
        "                    fib_heap[neighbor] = (v, neighbor, weight)\n",
        "\n",
        "    return agm\n",
        "\n",
        "# Exemplo de uso:\n",
        "# matrix = [\n",
        "#     ('A', 'B', 2),\n",
        "#     ('A', 'C', 2),\n",
        "#     ('B', 'C', 1),\n",
        "#     ('B', 'D', 1),\n",
        "#     ('C', 'D', 5),\n",
        "#     ('E', 'B', 1),\n",
        "#     ('E', 'C', 1),\n",
        "# ]\n",
        "\n",
        "# agm = prim_fibonacci_heap(matrix)\n",
        "\n",
        "# # Crie um grafo para visualização\n",
        "# G = nx.Graph()\n",
        "# G.add_weighted_edges_from([(u, v, weight) for u, v, weight in agm])\n",
        "\n",
        "# # Plote o grafo\n",
        "# pos = nx.spring_layout(G)\n",
        "# labels = nx.get_edge_attributes(G, 'weight')\n",
        "# nx.draw(G, pos, with_labels=True, node_size=500, node_color='lightblue')\n",
        "# nx.draw_networkx_edge_labels(G, pos, edge_labels=labels)\n",
        "# plt.title(\"Árvore Geradora Mínima\")\n",
        "# plt.show()\n"
      ]
    },
    {
      "cell_type": "markdown",
      "metadata": {
        "id": "aX0cGI_eM23t"
      },
      "source": [
        "## Executando o Heap Fibonacci"
      ]
    },
    {
      "cell_type": "code",
      "execution_count": null,
      "metadata": {
        "id": "tCXd9h0RNCFl"
      },
      "outputs": [],
      "source": [
        "## OBSERVAÇÃO:: NECESSÁRIO MUDAR A PASTA MANUALMENTE PARA PROCESSAR OS MODELOS DE INSTÂNCIA ALUE | ALUT E DMXA\n",
        "\n",
        "pasta = '/content/drive/My Drive/AGM/ALUE'\n",
        "# pasta = '/content/drive/My Drive/AGM/ALUT'\n",
        "# pasta = '/content/drive/My Drive/AGM/DMXA'\n",
        "\n",
        "# Lista todas as instâncias que estão na pasta\n",
        "todasInstâncias = listar_arquivos_em_pasta(pasta)\n",
        "\n",
        "# Executa cada instância 10x exibindo o tempo e memória usadas\n",
        "for instância in todasInstâncias:\n",
        "  caminho = f'{pasta}/{instância}'\n",
        "  matriz_dados = gerarGrafo(caminho)\n",
        "\n",
        "  res_tempo = [];\n",
        "  res_memória = [];\n",
        "  for i in range(10):\n",
        "    # Registra a memória usada inicialmente e o tempo inicial\n",
        "    inicio_memoria = psutil.virtual_memory()\n",
        "    inicio = time.time()\n",
        "\n",
        "    # Chamando a função\n",
        "    agm = prim_fibonacci_heap(matriz_dados)\n",
        "\n",
        "    # Registra a memória usada após executar a função e o tempo final\n",
        "    fim = time.time()\n",
        "    fim_memoria = psutil.virtual_memory()\n",
        "\n",
        "    # Realiza o cálculo do tempo decorrido e do uso da memória\n",
        "    tempo_decorrido = fim - inicio\n",
        "    uso_memoria = abs(fim_memoria.used - inicio_memoria.used)*8 # x 8 para ficar em bits\n",
        "\n",
        "    # Adicionando o resultado nos vetors\n",
        "    res_tempo.append(tempo_decorrido)\n",
        "    res_memória.append(uso_memoria)\n",
        "\n",
        "  print(f'Instância: {instância}')\n",
        "  print(f'Tempo médio (s): {np.mean(res_tempo)}')\n",
        "  print(f'Tempo máximo (s): {np.max(res_tempo)}')\n",
        "  print(f'Tempo minimo (s): {np.min(res_tempo)}')\n",
        "  print(f'Memória médio (bits): {np.mean(res_memória)}')\n",
        "  print(f'Memória máximo (bits): {np.max(res_memória)}')\n",
        "  print(f'Memória minimo (bits): {np.min(res_memória)}')\n",
        "  print('\\n')"
      ]
    }
  ],
  "metadata": {
    "colab": {
      "provenance": [],
      "include_colab_link": true
    },
    "kernelspec": {
      "display_name": "Python 3",
      "name": "python3"
    },
    "language_info": {
      "name": "python"
    }
  },
  "nbformat": 4,
  "nbformat_minor": 0
}
